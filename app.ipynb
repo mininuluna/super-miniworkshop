{
 "cells": [
  {
   "cell_type": "code",
   "execution_count": 66,
   "id": "785ec0d2",
   "metadata": {},
   "outputs": [
    {
     "name": "stdout",
     "output_type": "stream",
     "text": [
      "Requirement already satisfied: dash in c:\\users\\conse\\appdata\\local\\programs\\python\\python310\\lib\\site-packages (2.2.0)\n",
      "Requirement already satisfied: plotly>=5.0.0 in c:\\users\\conse\\appdata\\local\\programs\\python\\python310\\lib\\site-packages (from dash) (5.6.0)\n",
      "Requirement already satisfied: Flask>=1.0.4 in c:\\users\\conse\\appdata\\local\\programs\\python\\python310\\lib\\site-packages (from dash) (2.0.3)\n",
      "Requirement already satisfied: dash-table==5.0.0 in c:\\users\\conse\\appdata\\local\\programs\\python\\python310\\lib\\site-packages (from dash) (5.0.0)\n",
      "Requirement already satisfied: dash-core-components==2.0.0 in c:\\users\\conse\\appdata\\local\\programs\\python\\python310\\lib\\site-packages (from dash) (2.0.0)\n",
      "Requirement already satisfied: flask-compress in c:\\users\\conse\\appdata\\local\\programs\\python\\python310\\lib\\site-packages (from dash) (1.11)\n",
      "Requirement already satisfied: dash-html-components==2.0.0 in c:\\users\\conse\\appdata\\local\\programs\\python\\python310\\lib\\site-packages (from dash) (2.0.0)\n",
      "Requirement already satisfied: itsdangerous>=2.0 in c:\\users\\conse\\appdata\\local\\programs\\python\\python310\\lib\\site-packages (from Flask>=1.0.4->dash) (2.1.0)\n",
      "Requirement already satisfied: Werkzeug>=2.0 in c:\\users\\conse\\appdata\\local\\programs\\python\\python310\\lib\\site-packages (from Flask>=1.0.4->dash) (2.0.3)\n",
      "Requirement already satisfied: Jinja2>=3.0 in c:\\users\\conse\\appdata\\local\\programs\\python\\python310\\lib\\site-packages (from Flask>=1.0.4->dash) (3.0.3)\n",
      "Requirement already satisfied: click>=7.1.2 in c:\\users\\conse\\appdata\\local\\programs\\python\\python310\\lib\\site-packages (from Flask>=1.0.4->dash) (8.0.4)\n",
      "Requirement already satisfied: colorama in c:\\users\\conse\\appdata\\roaming\\python\\python310\\site-packages (from click>=7.1.2->Flask>=1.0.4->dash) (0.4.4)\n",
      "Requirement already satisfied: MarkupSafe>=2.0 in c:\\users\\conse\\appdata\\local\\programs\\python\\python310\\lib\\site-packages (from Jinja2>=3.0->Flask>=1.0.4->dash) (2.1.0)\n",
      "Requirement already satisfied: six in c:\\users\\conse\\appdata\\roaming\\python\\python310\\site-packages (from plotly>=5.0.0->dash) (1.16.0)\n",
      "Requirement already satisfied: tenacity>=6.2.0 in c:\\users\\conse\\appdata\\local\\programs\\python\\python310\\lib\\site-packages (from plotly>=5.0.0->dash) (8.0.1)\n",
      "Requirement already satisfied: brotli in c:\\users\\conse\\appdata\\local\\programs\\python\\python310\\lib\\site-packages (from flask-compress->dash) (1.0.9)\n",
      "Note: you may need to restart the kernel to use updated packages.\n"
     ]
    },
    {
     "name": "stderr",
     "output_type": "stream",
     "text": [
      "WARNING: You are using pip version 21.2.3; however, version 22.0.4 is available.\n",
      "You should consider upgrading via the 'C:\\Users\\conse\\AppData\\Local\\Programs\\Python\\Python310\\python.exe -m pip install --upgrade pip' command.\n"
     ]
    },
    {
     "name": "stdout",
     "output_type": "stream",
     "text": [
      "Requirement already satisfied: jupyter-dash in c:\\users\\conse\\appdata\\local\\programs\\python\\python310\\lib\\site-packages (0.4.1)\n",
      "Requirement already satisfied: dash in c:\\users\\conse\\appdata\\local\\programs\\python\\python310\\lib\\site-packages (from jupyter-dash) (2.2.0)\n",
      "Requirement already satisfied: ipython in c:\\users\\conse\\appdata\\roaming\\python\\python310\\site-packages (from jupyter-dash) (8.1.1)\n",
      "Requirement already satisfied: retrying in c:\\users\\conse\\appdata\\local\\programs\\python\\python310\\lib\\site-packages (from jupyter-dash) (1.3.3)\n",
      "Requirement already satisfied: flask in c:\\users\\conse\\appdata\\local\\programs\\python\\python310\\lib\\site-packages (from jupyter-dash) (2.0.3)\n",
      "Requirement already satisfied: ipykernel in c:\\users\\conse\\appdata\\roaming\\python\\python310\\site-packages (from jupyter-dash) (6.9.1)\n",
      "Requirement already satisfied: requests in c:\\users\\conse\\appdata\\local\\programs\\python\\python310\\lib\\site-packages (from jupyter-dash) (2.27.1)\n",
      "Requirement already satisfied: ansi2html in c:\\users\\conse\\appdata\\local\\programs\\python\\python310\\lib\\site-packages (from jupyter-dash) (1.7.0)\n",
      "Requirement already satisfied: dash-core-components==2.0.0 in c:\\users\\conse\\appdata\\local\\programs\\python\\python310\\lib\\site-packages (from dash->jupyter-dash) (2.0.0)\n",
      "Requirement already satisfied: dash-html-components==2.0.0 in c:\\users\\conse\\appdata\\local\\programs\\python\\python310\\lib\\site-packages (from dash->jupyter-dash) (2.0.0)\n",
      "Requirement already satisfied: plotly>=5.0.0 in c:\\users\\conse\\appdata\\local\\programs\\python\\python310\\lib\\site-packages (from dash->jupyter-dash) (5.6.0)\n",
      "Requirement already satisfied: dash-table==5.0.0 in c:\\users\\conse\\appdata\\local\\programs\\python\\python310\\lib\\site-packages (from dash->jupyter-dash) (5.0.0)\n",
      "Requirement already satisfied: flask-compress in c:\\users\\conse\\appdata\\local\\programs\\python\\python310\\lib\\site-packages (from dash->jupyter-dash) (1.11)\n",
      "Requirement already satisfied: click>=7.1.2 in c:\\users\\conse\\appdata\\local\\programs\\python\\python310\\lib\\site-packages (from flask->jupyter-dash) (8.0.4)\n",
      "Requirement already satisfied: itsdangerous>=2.0 in c:\\users\\conse\\appdata\\local\\programs\\python\\python310\\lib\\site-packages (from flask->jupyter-dash) (2.1.0)\n",
      "Requirement already satisfied: Jinja2>=3.0 in c:\\users\\conse\\appdata\\local\\programs\\python\\python310\\lib\\site-packages (from flask->jupyter-dash) (3.0.3)\n",
      "Requirement already satisfied: Werkzeug>=2.0 in c:\\users\\conse\\appdata\\local\\programs\\python\\python310\\lib\\site-packages (from flask->jupyter-dash) (2.0.3)\n",
      "Requirement already satisfied: colorama in c:\\users\\conse\\appdata\\roaming\\python\\python310\\site-packages (from click>=7.1.2->flask->jupyter-dash) (0.4.4)\n",
      "Requirement already satisfied: MarkupSafe>=2.0 in c:\\users\\conse\\appdata\\local\\programs\\python\\python310\\lib\\site-packages (from Jinja2>=3.0->flask->jupyter-dash) (2.1.0)\n",
      "Requirement already satisfied: tenacity>=6.2.0 in c:\\users\\conse\\appdata\\local\\programs\\python\\python310\\lib\\site-packages (from plotly>=5.0.0->dash->jupyter-dash) (8.0.1)\n",
      "Requirement already satisfied: six in c:\\users\\conse\\appdata\\roaming\\python\\python310\\site-packages (from plotly>=5.0.0->dash->jupyter-dash) (1.16.0)\n",
      "Requirement already satisfied: brotli in c:\\users\\conse\\appdata\\local\\programs\\python\\python310\\lib\\site-packages (from flask-compress->dash->jupyter-dash) (1.0.9)\n",
      "Requirement already satisfied: nest-asyncio in c:\\users\\conse\\appdata\\roaming\\python\\python310\\site-packages (from ipykernel->jupyter-dash) (1.5.4)\n",
      "Requirement already satisfied: matplotlib-inline<0.2.0,>=0.1.0 in c:\\users\\conse\\appdata\\roaming\\python\\python310\\site-packages (from ipykernel->jupyter-dash) (0.1.3)\n",
      "Requirement already satisfied: traitlets<6.0,>=5.1.0 in c:\\users\\conse\\appdata\\roaming\\python\\python310\\site-packages (from ipykernel->jupyter-dash) (5.1.1)\n",
      "Requirement already satisfied: jupyter-client<8.0 in c:\\users\\conse\\appdata\\roaming\\python\\python310\\site-packages (from ipykernel->jupyter-dash) (7.1.2)\n",
      "Requirement already satisfied: tornado<7.0,>=4.2 in c:\\users\\conse\\appdata\\roaming\\python\\python310\\site-packages (from ipykernel->jupyter-dash) (6.1)\n",
      "Requirement already satisfied: debugpy<2.0,>=1.0.0 in c:\\users\\conse\\appdata\\roaming\\python\\python310\\site-packages (from ipykernel->jupyter-dash) (1.5.1)\n",
      "Requirement already satisfied: stack-data in c:\\users\\conse\\appdata\\roaming\\python\\python310\\site-packages (from ipython->jupyter-dash) (0.2.0)\n",
      "Requirement already satisfied: pickleshare in c:\\users\\conse\\appdata\\roaming\\python\\python310\\site-packages (from ipython->jupyter-dash) (0.7.5)\n",
      "Requirement already satisfied: backcall in c:\\users\\conse\\appdata\\roaming\\python\\python310\\site-packages (from ipython->jupyter-dash) (0.2.0)\n",
      "Requirement already satisfied: prompt-toolkit!=3.0.0,!=3.0.1,<3.1.0,>=2.0.0 in c:\\users\\conse\\appdata\\roaming\\python\\python310\\site-packages (from ipython->jupyter-dash) (3.0.28)\n",
      "Requirement already satisfied: pygments>=2.4.0 in c:\\users\\conse\\appdata\\roaming\\python\\python310\\site-packages (from ipython->jupyter-dash) (2.11.2)\n",
      "Requirement already satisfied: decorator in c:\\users\\conse\\appdata\\roaming\\python\\python310\\site-packages (from ipython->jupyter-dash) (5.1.1)\n",
      "Requirement already satisfied: setuptools>=18.5 in c:\\users\\conse\\appdata\\local\\programs\\python\\python310\\lib\\site-packages (from ipython->jupyter-dash) (57.4.0)\n",
      "Requirement already satisfied: jedi>=0.16 in c:\\users\\conse\\appdata\\roaming\\python\\python310\\site-packages (from ipython->jupyter-dash) (0.18.1)\n",
      "Requirement already satisfied: parso<0.9.0,>=0.8.0 in c:\\users\\conse\\appdata\\roaming\\python\\python310\\site-packages (from jedi>=0.16->ipython->jupyter-dash) (0.8.3)\n",
      "Requirement already satisfied: entrypoints in c:\\users\\conse\\appdata\\roaming\\python\\python310\\site-packages (from jupyter-client<8.0->ipykernel->jupyter-dash) (0.4)\n",
      "Requirement already satisfied: jupyter-core>=4.6.0 in c:\\users\\conse\\appdata\\roaming\\python\\python310\\site-packages (from jupyter-client<8.0->ipykernel->jupyter-dash) (4.9.2)\n",
      "Requirement already satisfied: pyzmq>=13 in c:\\users\\conse\\appdata\\roaming\\python\\python310\\site-packages (from jupyter-client<8.0->ipykernel->jupyter-dash) (22.3.0)\n",
      "Requirement already satisfied: python-dateutil>=2.1 in c:\\users\\conse\\appdata\\roaming\\python\\python310\\site-packages (from jupyter-client<8.0->ipykernel->jupyter-dash) (2.8.2)\n",
      "Requirement already satisfied: pywin32>=1.0 in c:\\users\\conse\\appdata\\roaming\\python\\python310\\site-packages (from jupyter-core>=4.6.0->jupyter-client<8.0->ipykernel->jupyter-dash) (303)\n",
      "Requirement already satisfied: wcwidth in c:\\users\\conse\\appdata\\roaming\\python\\python310\\site-packages (from prompt-toolkit!=3.0.0,!=3.0.1,<3.1.0,>=2.0.0->ipython->jupyter-dash) (0.2.5)\n",
      "Requirement already satisfied: idna<4,>=2.5 in c:\\users\\conse\\appdata\\local\\programs\\python\\python310\\lib\\site-packages (from requests->jupyter-dash) (3.3)\n",
      "Requirement already satisfied: charset-normalizer~=2.0.0 in c:\\users\\conse\\appdata\\local\\programs\\python\\python310\\lib\\site-packages (from requests->jupyter-dash) (2.0.12)\n",
      "Requirement already satisfied: certifi>=2017.4.17 in c:\\users\\conse\\appdata\\local\\programs\\python\\python310\\lib\\site-packages (from requests->jupyter-dash) (2021.10.8)\n",
      "Requirement already satisfied: urllib3<1.27,>=1.21.1 in c:\\users\\conse\\appdata\\local\\programs\\python\\python310\\lib\\site-packages (from requests->jupyter-dash) (1.26.8)\n",
      "Requirement already satisfied: pure-eval in c:\\users\\conse\\appdata\\roaming\\python\\python310\\site-packages (from stack-data->ipython->jupyter-dash) (0.2.2)\n",
      "Requirement already satisfied: executing in c:\\users\\conse\\appdata\\roaming\\python\\python310\\site-packages (from stack-data->ipython->jupyter-dash) (0.8.3)\n",
      "Requirement already satisfied: asttokens in c:\\users\\conse\\appdata\\roaming\\python\\python310\\site-packages (from stack-data->ipython->jupyter-dash) (2.0.5)\n",
      "Note: you may need to restart the kernel to use updated packages.\n"
     ]
    },
    {
     "name": "stderr",
     "output_type": "stream",
     "text": [
      "WARNING: You are using pip version 21.2.3; however, version 22.0.4 is available.\n",
      "You should consider upgrading via the 'C:\\Users\\conse\\AppData\\Local\\Programs\\Python\\Python310\\python.exe -m pip install --upgrade pip' command.\n"
     ]
    },
    {
     "name": "stdout",
     "output_type": "stream",
     "text": [
      "Requirement already satisfied: pandas in c:\\users\\conse\\appdata\\local\\programs\\python\\python310\\lib\\site-packages (1.4.1)\n",
      "Requirement already satisfied: numpy>=1.21.0 in c:\\users\\conse\\appdata\\local\\programs\\python\\python310\\lib\\site-packages (from pandas) (1.22.3)\n",
      "Requirement already satisfied: pytz>=2020.1 in c:\\users\\conse\\appdata\\local\\programs\\python\\python310\\lib\\site-packages (from pandas) (2021.3)\n",
      "Requirement already satisfied: python-dateutil>=2.8.1 in c:\\users\\conse\\appdata\\roaming\\python\\python310\\site-packages (from pandas) (2.8.2)\n",
      "Requirement already satisfied: six>=1.5 in c:\\users\\conse\\appdata\\roaming\\python\\python310\\site-packages (from python-dateutil>=2.8.1->pandas) (1.16.0)\n",
      "Note: you may need to restart the kernel to use updated packages.\n"
     ]
    },
    {
     "name": "stderr",
     "output_type": "stream",
     "text": [
      "WARNING: You are using pip version 21.2.3; however, version 22.0.4 is available.\n",
      "You should consider upgrading via the 'C:\\Users\\conse\\AppData\\Local\\Programs\\Python\\Python310\\python.exe -m pip install --upgrade pip' command.\n"
     ]
    }
   ],
   "source": [
    "%pip install dash\n",
    "%pip install jupyter-dash\n",
    "%pip install pandas"
   ]
  },
  {
   "cell_type": "code",
   "execution_count": 67,
   "id": "96abf147",
   "metadata": {},
   "outputs": [],
   "source": [
    "from jupyter_dash import JupyterDash"
   ]
  },
  {
   "cell_type": "code",
   "execution_count": 72,
   "id": "618034a1",
   "metadata": {},
   "outputs": [],
   "source": [
    "from dash import Dash, html, dcc, Input, Output\n",
    "import dash_core_components as dcc\n",
    "import dash_html_components as html\n",
    "import pandas as pd\n",
    "import plotly.express as px"
   ]
  },
  {
   "cell_type": "code",
   "execution_count": 75,
   "id": "f5912881",
   "metadata": {},
   "outputs": [],
   "source": [
    "external_stylesheets = ['https://codepen.io/chriddyp/pen/bWLwgP.css']"
   ]
  },
  {
   "cell_type": "code",
   "execution_count": 73,
   "id": "88aa182b",
   "metadata": {},
   "outputs": [],
   "source": [
    "app = Dash(__name__, external_stylesheets=external_stylesheets)"
   ]
  },
  {
   "cell_type": "code",
   "execution_count": 69,
   "id": "1fc97d96",
   "metadata": {},
   "outputs": [],
   "source": [
    "df = pd.read_csv(r\"C:\\Users\\conse\\Documents\\GitHub\\super-miniworkshop\\data\\BreastCancerPrediction.csv\")\n",
    "#available_indicators = df['Indicator Name'].unique()"
   ]
  },
  {
   "cell_type": "code",
   "execution_count": 76,
   "id": "b020c682",
   "metadata": {},
   "outputs": [
    {
     "ename": "KeyError",
     "evalue": "'Indicator Name'",
     "output_type": "error",
     "traceback": [
      "\u001b[1;31m---------------------------------------------------------------------------\u001b[0m",
      "\u001b[1;31mKeyError\u001b[0m                                  Traceback (most recent call last)",
      "File \u001b[1;32m~\\AppData\\Local\\Programs\\Python\\Python310\\lib\\site-packages\\pandas\\core\\indexes\\base.py:3621\u001b[0m, in \u001b[0;36mIndex.get_loc\u001b[1;34m(self, key, method, tolerance)\u001b[0m\n\u001b[0;32m   <a href='file:///c%3A/Users/conse/AppData/Local/Programs/Python/Python310/lib/site-packages/pandas/core/indexes/base.py?line=3619'>3620</a>\u001b[0m \u001b[39mtry\u001b[39;00m:\n\u001b[1;32m-> <a href='file:///c%3A/Users/conse/AppData/Local/Programs/Python/Python310/lib/site-packages/pandas/core/indexes/base.py?line=3620'>3621</a>\u001b[0m     \u001b[39mreturn\u001b[39;00m \u001b[39mself\u001b[39;49m\u001b[39m.\u001b[39;49m_engine\u001b[39m.\u001b[39;49mget_loc(casted_key)\n\u001b[0;32m   <a href='file:///c%3A/Users/conse/AppData/Local/Programs/Python/Python310/lib/site-packages/pandas/core/indexes/base.py?line=3621'>3622</a>\u001b[0m \u001b[39mexcept\u001b[39;00m \u001b[39mKeyError\u001b[39;00m \u001b[39mas\u001b[39;00m err:\n",
      "File \u001b[1;32m~\\AppData\\Local\\Programs\\Python\\Python310\\lib\\site-packages\\pandas\\_libs\\index.pyx:136\u001b[0m, in \u001b[0;36mpandas._libs.index.IndexEngine.get_loc\u001b[1;34m()\u001b[0m\n",
      "File \u001b[1;32m~\\AppData\\Local\\Programs\\Python\\Python310\\lib\\site-packages\\pandas\\_libs\\index.pyx:163\u001b[0m, in \u001b[0;36mpandas._libs.index.IndexEngine.get_loc\u001b[1;34m()\u001b[0m\n",
      "File \u001b[1;32mpandas\\_libs\\hashtable_class_helper.pxi:5198\u001b[0m, in \u001b[0;36mpandas._libs.hashtable.PyObjectHashTable.get_item\u001b[1;34m()\u001b[0m\n",
      "File \u001b[1;32mpandas\\_libs\\hashtable_class_helper.pxi:5206\u001b[0m, in \u001b[0;36mpandas._libs.hashtable.PyObjectHashTable.get_item\u001b[1;34m()\u001b[0m\n",
      "\u001b[1;31mKeyError\u001b[0m: 'Indicator Name'",
      "\nThe above exception was the direct cause of the following exception:\n",
      "\u001b[1;31mKeyError\u001b[0m                                  Traceback (most recent call last)",
      "\u001b[1;32mc:\\Users\\conse\\Documents\\GitHub\\super-miniworkshop\\app.ipynb Cell 7'\u001b[0m in \u001b[0;36m<cell line: 1>\u001b[1;34m()\u001b[0m\n\u001b[0;32m      <a href='vscode-notebook-cell:/c%3A/Users/conse/Documents/GitHub/super-miniworkshop/app.ipynb#ch0000004?line=0'>1</a>\u001b[0m app\u001b[39m.\u001b[39mlayout \u001b[39m=\u001b[39m html\u001b[39m.\u001b[39mDiv([\n\u001b[0;32m      <a href='vscode-notebook-cell:/c%3A/Users/conse/Documents/GitHub/super-miniworkshop/app.ipynb#ch0000004?line=1'>2</a>\u001b[0m     html\u001b[39m.\u001b[39mDiv([\n\u001b[0;32m      <a href='vscode-notebook-cell:/c%3A/Users/conse/Documents/GitHub/super-miniworkshop/app.ipynb#ch0000004?line=2'>3</a>\u001b[0m \n\u001b[0;32m      <a href='vscode-notebook-cell:/c%3A/Users/conse/Documents/GitHub/super-miniworkshop/app.ipynb#ch0000004?line=3'>4</a>\u001b[0m         html\u001b[39m.\u001b[39mDiv([\n\u001b[0;32m      <a href='vscode-notebook-cell:/c%3A/Users/conse/Documents/GitHub/super-miniworkshop/app.ipynb#ch0000004?line=4'>5</a>\u001b[0m             dcc\u001b[39m.\u001b[39mDropdown(\n\u001b[1;32m----> <a href='vscode-notebook-cell:/c%3A/Users/conse/Documents/GitHub/super-miniworkshop/app.ipynb#ch0000004?line=5'>6</a>\u001b[0m                 df[\u001b[39m'\u001b[39;49m\u001b[39mIndicator Name\u001b[39;49m\u001b[39m'\u001b[39;49m]\u001b[39m.\u001b[39munique(),\n\u001b[0;32m      <a href='vscode-notebook-cell:/c%3A/Users/conse/Documents/GitHub/super-miniworkshop/app.ipynb#ch0000004?line=6'>7</a>\u001b[0m                 \u001b[39m'\u001b[39m\u001b[39mFertility rate, total (births per woman)\u001b[39m\u001b[39m'\u001b[39m,\n\u001b[0;32m      <a href='vscode-notebook-cell:/c%3A/Users/conse/Documents/GitHub/super-miniworkshop/app.ipynb#ch0000004?line=7'>8</a>\u001b[0m                 \u001b[39mid\u001b[39m\u001b[39m=\u001b[39m\u001b[39m'\u001b[39m\u001b[39mcrossfilter-xaxis-column\u001b[39m\u001b[39m'\u001b[39m,\n\u001b[0;32m      <a href='vscode-notebook-cell:/c%3A/Users/conse/Documents/GitHub/super-miniworkshop/app.ipynb#ch0000004?line=8'>9</a>\u001b[0m             ),\n\u001b[0;32m     <a href='vscode-notebook-cell:/c%3A/Users/conse/Documents/GitHub/super-miniworkshop/app.ipynb#ch0000004?line=9'>10</a>\u001b[0m             dcc\u001b[39m.\u001b[39mRadioItems(\n\u001b[0;32m     <a href='vscode-notebook-cell:/c%3A/Users/conse/Documents/GitHub/super-miniworkshop/app.ipynb#ch0000004?line=10'>11</a>\u001b[0m                 [\u001b[39m'\u001b[39m\u001b[39mLinear\u001b[39m\u001b[39m'\u001b[39m, \u001b[39m'\u001b[39m\u001b[39mLog\u001b[39m\u001b[39m'\u001b[39m],\n\u001b[0;32m     <a href='vscode-notebook-cell:/c%3A/Users/conse/Documents/GitHub/super-miniworkshop/app.ipynb#ch0000004?line=11'>12</a>\u001b[0m                 \u001b[39m'\u001b[39m\u001b[39mLinear\u001b[39m\u001b[39m'\u001b[39m,\n\u001b[0;32m     <a href='vscode-notebook-cell:/c%3A/Users/conse/Documents/GitHub/super-miniworkshop/app.ipynb#ch0000004?line=12'>13</a>\u001b[0m                 \u001b[39mid\u001b[39m\u001b[39m=\u001b[39m\u001b[39m'\u001b[39m\u001b[39mcrossfilter-xaxis-type\u001b[39m\u001b[39m'\u001b[39m,\n\u001b[0;32m     <a href='vscode-notebook-cell:/c%3A/Users/conse/Documents/GitHub/super-miniworkshop/app.ipynb#ch0000004?line=13'>14</a>\u001b[0m                 labelStyle\u001b[39m=\u001b[39m{\u001b[39m'\u001b[39m\u001b[39mdisplay\u001b[39m\u001b[39m'\u001b[39m: \u001b[39m'\u001b[39m\u001b[39minline-block\u001b[39m\u001b[39m'\u001b[39m, \u001b[39m'\u001b[39m\u001b[39mmarginTop\u001b[39m\u001b[39m'\u001b[39m: \u001b[39m'\u001b[39m\u001b[39m5px\u001b[39m\u001b[39m'\u001b[39m}\n\u001b[0;32m     <a href='vscode-notebook-cell:/c%3A/Users/conse/Documents/GitHub/super-miniworkshop/app.ipynb#ch0000004?line=14'>15</a>\u001b[0m             )\n\u001b[0;32m     <a href='vscode-notebook-cell:/c%3A/Users/conse/Documents/GitHub/super-miniworkshop/app.ipynb#ch0000004?line=15'>16</a>\u001b[0m         ],\n\u001b[0;32m     <a href='vscode-notebook-cell:/c%3A/Users/conse/Documents/GitHub/super-miniworkshop/app.ipynb#ch0000004?line=16'>17</a>\u001b[0m         style\u001b[39m=\u001b[39m{\u001b[39m'\u001b[39m\u001b[39mwidth\u001b[39m\u001b[39m'\u001b[39m: \u001b[39m'\u001b[39m\u001b[39m49\u001b[39m\u001b[39m%\u001b[39m\u001b[39m'\u001b[39m, \u001b[39m'\u001b[39m\u001b[39mdisplay\u001b[39m\u001b[39m'\u001b[39m: \u001b[39m'\u001b[39m\u001b[39minline-block\u001b[39m\u001b[39m'\u001b[39m}),\n\u001b[0;32m     <a href='vscode-notebook-cell:/c%3A/Users/conse/Documents/GitHub/super-miniworkshop/app.ipynb#ch0000004?line=17'>18</a>\u001b[0m \n\u001b[0;32m     <a href='vscode-notebook-cell:/c%3A/Users/conse/Documents/GitHub/super-miniworkshop/app.ipynb#ch0000004?line=18'>19</a>\u001b[0m         html\u001b[39m.\u001b[39mDiv([\n\u001b[0;32m     <a href='vscode-notebook-cell:/c%3A/Users/conse/Documents/GitHub/super-miniworkshop/app.ipynb#ch0000004?line=19'>20</a>\u001b[0m             dcc\u001b[39m.\u001b[39mDropdown(\n\u001b[0;32m     <a href='vscode-notebook-cell:/c%3A/Users/conse/Documents/GitHub/super-miniworkshop/app.ipynb#ch0000004?line=20'>21</a>\u001b[0m                 df[\u001b[39m'\u001b[39m\u001b[39mIndicator Name\u001b[39m\u001b[39m'\u001b[39m]\u001b[39m.\u001b[39munique(),\n\u001b[0;32m     <a href='vscode-notebook-cell:/c%3A/Users/conse/Documents/GitHub/super-miniworkshop/app.ipynb#ch0000004?line=21'>22</a>\u001b[0m                 \u001b[39m'\u001b[39m\u001b[39mLife expectancy at birth, total (years)\u001b[39m\u001b[39m'\u001b[39m,\n\u001b[0;32m     <a href='vscode-notebook-cell:/c%3A/Users/conse/Documents/GitHub/super-miniworkshop/app.ipynb#ch0000004?line=22'>23</a>\u001b[0m                 \u001b[39mid\u001b[39m\u001b[39m=\u001b[39m\u001b[39m'\u001b[39m\u001b[39mcrossfilter-yaxis-column\u001b[39m\u001b[39m'\u001b[39m\n\u001b[0;32m     <a href='vscode-notebook-cell:/c%3A/Users/conse/Documents/GitHub/super-miniworkshop/app.ipynb#ch0000004?line=23'>24</a>\u001b[0m             ),\n\u001b[0;32m     <a href='vscode-notebook-cell:/c%3A/Users/conse/Documents/GitHub/super-miniworkshop/app.ipynb#ch0000004?line=24'>25</a>\u001b[0m             dcc\u001b[39m.\u001b[39mRadioItems(\n\u001b[0;32m     <a href='vscode-notebook-cell:/c%3A/Users/conse/Documents/GitHub/super-miniworkshop/app.ipynb#ch0000004?line=25'>26</a>\u001b[0m                 [\u001b[39m'\u001b[39m\u001b[39mLinear\u001b[39m\u001b[39m'\u001b[39m, \u001b[39m'\u001b[39m\u001b[39mLog\u001b[39m\u001b[39m'\u001b[39m],\n\u001b[0;32m     <a href='vscode-notebook-cell:/c%3A/Users/conse/Documents/GitHub/super-miniworkshop/app.ipynb#ch0000004?line=26'>27</a>\u001b[0m                 \u001b[39m'\u001b[39m\u001b[39mLinear\u001b[39m\u001b[39m'\u001b[39m,\n\u001b[0;32m     <a href='vscode-notebook-cell:/c%3A/Users/conse/Documents/GitHub/super-miniworkshop/app.ipynb#ch0000004?line=27'>28</a>\u001b[0m                 \u001b[39mid\u001b[39m\u001b[39m=\u001b[39m\u001b[39m'\u001b[39m\u001b[39mcrossfilter-yaxis-type\u001b[39m\u001b[39m'\u001b[39m,\n\u001b[0;32m     <a href='vscode-notebook-cell:/c%3A/Users/conse/Documents/GitHub/super-miniworkshop/app.ipynb#ch0000004?line=28'>29</a>\u001b[0m                 labelStyle\u001b[39m=\u001b[39m{\u001b[39m'\u001b[39m\u001b[39mdisplay\u001b[39m\u001b[39m'\u001b[39m: \u001b[39m'\u001b[39m\u001b[39minline-block\u001b[39m\u001b[39m'\u001b[39m, \u001b[39m'\u001b[39m\u001b[39mmarginTop\u001b[39m\u001b[39m'\u001b[39m: \u001b[39m'\u001b[39m\u001b[39m5px\u001b[39m\u001b[39m'\u001b[39m}\n\u001b[0;32m     <a href='vscode-notebook-cell:/c%3A/Users/conse/Documents/GitHub/super-miniworkshop/app.ipynb#ch0000004?line=29'>30</a>\u001b[0m             )\n\u001b[0;32m     <a href='vscode-notebook-cell:/c%3A/Users/conse/Documents/GitHub/super-miniworkshop/app.ipynb#ch0000004?line=30'>31</a>\u001b[0m         ], style\u001b[39m=\u001b[39m{\u001b[39m'\u001b[39m\u001b[39mwidth\u001b[39m\u001b[39m'\u001b[39m: \u001b[39m'\u001b[39m\u001b[39m49\u001b[39m\u001b[39m%\u001b[39m\u001b[39m'\u001b[39m, \u001b[39m'\u001b[39m\u001b[39mfloat\u001b[39m\u001b[39m'\u001b[39m: \u001b[39m'\u001b[39m\u001b[39mright\u001b[39m\u001b[39m'\u001b[39m, \u001b[39m'\u001b[39m\u001b[39mdisplay\u001b[39m\u001b[39m'\u001b[39m: \u001b[39m'\u001b[39m\u001b[39minline-block\u001b[39m\u001b[39m'\u001b[39m})\n\u001b[0;32m     <a href='vscode-notebook-cell:/c%3A/Users/conse/Documents/GitHub/super-miniworkshop/app.ipynb#ch0000004?line=31'>32</a>\u001b[0m     ], style\u001b[39m=\u001b[39m{\n\u001b[0;32m     <a href='vscode-notebook-cell:/c%3A/Users/conse/Documents/GitHub/super-miniworkshop/app.ipynb#ch0000004?line=32'>33</a>\u001b[0m         \u001b[39m'\u001b[39m\u001b[39mpadding\u001b[39m\u001b[39m'\u001b[39m: \u001b[39m'\u001b[39m\u001b[39m10px 5px\u001b[39m\u001b[39m'\u001b[39m\n\u001b[0;32m     <a href='vscode-notebook-cell:/c%3A/Users/conse/Documents/GitHub/super-miniworkshop/app.ipynb#ch0000004?line=33'>34</a>\u001b[0m     }),\n\u001b[0;32m     <a href='vscode-notebook-cell:/c%3A/Users/conse/Documents/GitHub/super-miniworkshop/app.ipynb#ch0000004?line=34'>35</a>\u001b[0m \n\u001b[0;32m     <a href='vscode-notebook-cell:/c%3A/Users/conse/Documents/GitHub/super-miniworkshop/app.ipynb#ch0000004?line=35'>36</a>\u001b[0m     html\u001b[39m.\u001b[39mDiv([\n\u001b[0;32m     <a href='vscode-notebook-cell:/c%3A/Users/conse/Documents/GitHub/super-miniworkshop/app.ipynb#ch0000004?line=36'>37</a>\u001b[0m         dcc\u001b[39m.\u001b[39mGraph(\n\u001b[0;32m     <a href='vscode-notebook-cell:/c%3A/Users/conse/Documents/GitHub/super-miniworkshop/app.ipynb#ch0000004?line=37'>38</a>\u001b[0m             \u001b[39mid\u001b[39m\u001b[39m=\u001b[39m\u001b[39m'\u001b[39m\u001b[39mcrossfilter-indicator-scatter\u001b[39m\u001b[39m'\u001b[39m,\n\u001b[0;32m     <a href='vscode-notebook-cell:/c%3A/Users/conse/Documents/GitHub/super-miniworkshop/app.ipynb#ch0000004?line=38'>39</a>\u001b[0m             hoverData\u001b[39m=\u001b[39m{\u001b[39m'\u001b[39m\u001b[39mpoints\u001b[39m\u001b[39m'\u001b[39m: [{\u001b[39m'\u001b[39m\u001b[39mcustomdata\u001b[39m\u001b[39m'\u001b[39m: \u001b[39m'\u001b[39m\u001b[39mJapan\u001b[39m\u001b[39m'\u001b[39m}]}\n\u001b[0;32m     <a href='vscode-notebook-cell:/c%3A/Users/conse/Documents/GitHub/super-miniworkshop/app.ipynb#ch0000004?line=39'>40</a>\u001b[0m         )\n\u001b[0;32m     <a href='vscode-notebook-cell:/c%3A/Users/conse/Documents/GitHub/super-miniworkshop/app.ipynb#ch0000004?line=40'>41</a>\u001b[0m     ], style\u001b[39m=\u001b[39m{\u001b[39m'\u001b[39m\u001b[39mwidth\u001b[39m\u001b[39m'\u001b[39m: \u001b[39m'\u001b[39m\u001b[39m49\u001b[39m\u001b[39m%\u001b[39m\u001b[39m'\u001b[39m, \u001b[39m'\u001b[39m\u001b[39mdisplay\u001b[39m\u001b[39m'\u001b[39m: \u001b[39m'\u001b[39m\u001b[39minline-block\u001b[39m\u001b[39m'\u001b[39m, \u001b[39m'\u001b[39m\u001b[39mpadding\u001b[39m\u001b[39m'\u001b[39m: \u001b[39m'\u001b[39m\u001b[39m0 20\u001b[39m\u001b[39m'\u001b[39m}),\n\u001b[0;32m     <a href='vscode-notebook-cell:/c%3A/Users/conse/Documents/GitHub/super-miniworkshop/app.ipynb#ch0000004?line=41'>42</a>\u001b[0m     html\u001b[39m.\u001b[39mDiv([\n\u001b[0;32m     <a href='vscode-notebook-cell:/c%3A/Users/conse/Documents/GitHub/super-miniworkshop/app.ipynb#ch0000004?line=42'>43</a>\u001b[0m         dcc\u001b[39m.\u001b[39mGraph(\u001b[39mid\u001b[39m\u001b[39m=\u001b[39m\u001b[39m'\u001b[39m\u001b[39mx-time-series\u001b[39m\u001b[39m'\u001b[39m),\n\u001b[0;32m     <a href='vscode-notebook-cell:/c%3A/Users/conse/Documents/GitHub/super-miniworkshop/app.ipynb#ch0000004?line=43'>44</a>\u001b[0m         dcc\u001b[39m.\u001b[39mGraph(\u001b[39mid\u001b[39m\u001b[39m=\u001b[39m\u001b[39m'\u001b[39m\u001b[39my-time-series\u001b[39m\u001b[39m'\u001b[39m),\n\u001b[0;32m     <a href='vscode-notebook-cell:/c%3A/Users/conse/Documents/GitHub/super-miniworkshop/app.ipynb#ch0000004?line=44'>45</a>\u001b[0m     ], style\u001b[39m=\u001b[39m{\u001b[39m'\u001b[39m\u001b[39mdisplay\u001b[39m\u001b[39m'\u001b[39m: \u001b[39m'\u001b[39m\u001b[39minline-block\u001b[39m\u001b[39m'\u001b[39m, \u001b[39m'\u001b[39m\u001b[39mwidth\u001b[39m\u001b[39m'\u001b[39m: \u001b[39m'\u001b[39m\u001b[39m49\u001b[39m\u001b[39m%\u001b[39m\u001b[39m'\u001b[39m}),\n\u001b[0;32m     <a href='vscode-notebook-cell:/c%3A/Users/conse/Documents/GitHub/super-miniworkshop/app.ipynb#ch0000004?line=45'>46</a>\u001b[0m \n\u001b[0;32m     <a href='vscode-notebook-cell:/c%3A/Users/conse/Documents/GitHub/super-miniworkshop/app.ipynb#ch0000004?line=46'>47</a>\u001b[0m     html\u001b[39m.\u001b[39mDiv(dcc\u001b[39m.\u001b[39mSlider(\n\u001b[0;32m     <a href='vscode-notebook-cell:/c%3A/Users/conse/Documents/GitHub/super-miniworkshop/app.ipynb#ch0000004?line=47'>48</a>\u001b[0m         df[\u001b[39m'\u001b[39m\u001b[39mYear\u001b[39m\u001b[39m'\u001b[39m]\u001b[39m.\u001b[39mmin(),\n\u001b[0;32m     <a href='vscode-notebook-cell:/c%3A/Users/conse/Documents/GitHub/super-miniworkshop/app.ipynb#ch0000004?line=48'>49</a>\u001b[0m         df[\u001b[39m'\u001b[39m\u001b[39mYear\u001b[39m\u001b[39m'\u001b[39m]\u001b[39m.\u001b[39mmax(),\n\u001b[0;32m     <a href='vscode-notebook-cell:/c%3A/Users/conse/Documents/GitHub/super-miniworkshop/app.ipynb#ch0000004?line=49'>50</a>\u001b[0m         step\u001b[39m=\u001b[39m\u001b[39mNone\u001b[39;00m,\n\u001b[0;32m     <a href='vscode-notebook-cell:/c%3A/Users/conse/Documents/GitHub/super-miniworkshop/app.ipynb#ch0000004?line=50'>51</a>\u001b[0m         \u001b[39mid\u001b[39m\u001b[39m=\u001b[39m\u001b[39m'\u001b[39m\u001b[39mcrossfilter-year--slider\u001b[39m\u001b[39m'\u001b[39m,\n\u001b[0;32m     <a href='vscode-notebook-cell:/c%3A/Users/conse/Documents/GitHub/super-miniworkshop/app.ipynb#ch0000004?line=51'>52</a>\u001b[0m         value\u001b[39m=\u001b[39mdf[\u001b[39m'\u001b[39m\u001b[39mYear\u001b[39m\u001b[39m'\u001b[39m]\u001b[39m.\u001b[39mmax(),\n\u001b[0;32m     <a href='vscode-notebook-cell:/c%3A/Users/conse/Documents/GitHub/super-miniworkshop/app.ipynb#ch0000004?line=52'>53</a>\u001b[0m         marks\u001b[39m=\u001b[39m{\u001b[39mstr\u001b[39m(year): \u001b[39mstr\u001b[39m(year) \u001b[39mfor\u001b[39;00m year \u001b[39min\u001b[39;00m df[\u001b[39m'\u001b[39m\u001b[39mYear\u001b[39m\u001b[39m'\u001b[39m]\u001b[39m.\u001b[39munique()}\n\u001b[0;32m     <a href='vscode-notebook-cell:/c%3A/Users/conse/Documents/GitHub/super-miniworkshop/app.ipynb#ch0000004?line=53'>54</a>\u001b[0m     ), style\u001b[39m=\u001b[39m{\u001b[39m'\u001b[39m\u001b[39mwidth\u001b[39m\u001b[39m'\u001b[39m: \u001b[39m'\u001b[39m\u001b[39m49\u001b[39m\u001b[39m%\u001b[39m\u001b[39m'\u001b[39m, \u001b[39m'\u001b[39m\u001b[39mpadding\u001b[39m\u001b[39m'\u001b[39m: \u001b[39m'\u001b[39m\u001b[39m0px 20px 20px 20px\u001b[39m\u001b[39m'\u001b[39m})\n\u001b[0;32m     <a href='vscode-notebook-cell:/c%3A/Users/conse/Documents/GitHub/super-miniworkshop/app.ipynb#ch0000004?line=54'>55</a>\u001b[0m ])\n\u001b[0;32m     <a href='vscode-notebook-cell:/c%3A/Users/conse/Documents/GitHub/super-miniworkshop/app.ipynb#ch0000004?line=57'>58</a>\u001b[0m \u001b[39m@app\u001b[39m\u001b[39m.\u001b[39mcallback(\n\u001b[0;32m     <a href='vscode-notebook-cell:/c%3A/Users/conse/Documents/GitHub/super-miniworkshop/app.ipynb#ch0000004?line=58'>59</a>\u001b[0m     Output(\u001b[39m'\u001b[39m\u001b[39mcrossfilter-indicator-scatter\u001b[39m\u001b[39m'\u001b[39m, \u001b[39m'\u001b[39m\u001b[39mfigure\u001b[39m\u001b[39m'\u001b[39m),\n\u001b[0;32m     <a href='vscode-notebook-cell:/c%3A/Users/conse/Documents/GitHub/super-miniworkshop/app.ipynb#ch0000004?line=59'>60</a>\u001b[0m     Input(\u001b[39m'\u001b[39m\u001b[39mcrossfilter-xaxis-column\u001b[39m\u001b[39m'\u001b[39m, \u001b[39m'\u001b[39m\u001b[39mvalue\u001b[39m\u001b[39m'\u001b[39m),\n\u001b[1;32m   (...)\u001b[0m\n\u001b[0;32m     <a href='vscode-notebook-cell:/c%3A/Users/conse/Documents/GitHub/super-miniworkshop/app.ipynb#ch0000004?line=65'>66</a>\u001b[0m                  xaxis_type, yaxis_type,\n\u001b[0;32m     <a href='vscode-notebook-cell:/c%3A/Users/conse/Documents/GitHub/super-miniworkshop/app.ipynb#ch0000004?line=66'>67</a>\u001b[0m                  year_value):\n\u001b[0;32m     <a href='vscode-notebook-cell:/c%3A/Users/conse/Documents/GitHub/super-miniworkshop/app.ipynb#ch0000004?line=67'>68</a>\u001b[0m     dff \u001b[39m=\u001b[39m df[df[\u001b[39m'\u001b[39m\u001b[39mYear\u001b[39m\u001b[39m'\u001b[39m] \u001b[39m==\u001b[39m year_value]\n",
      "File \u001b[1;32m~\\AppData\\Local\\Programs\\Python\\Python310\\lib\\site-packages\\pandas\\core\\frame.py:3505\u001b[0m, in \u001b[0;36mDataFrame.__getitem__\u001b[1;34m(self, key)\u001b[0m\n\u001b[0;32m   <a href='file:///c%3A/Users/conse/AppData/Local/Programs/Python/Python310/lib/site-packages/pandas/core/frame.py?line=3502'>3503</a>\u001b[0m \u001b[39mif\u001b[39;00m \u001b[39mself\u001b[39m\u001b[39m.\u001b[39mcolumns\u001b[39m.\u001b[39mnlevels \u001b[39m>\u001b[39m \u001b[39m1\u001b[39m:\n\u001b[0;32m   <a href='file:///c%3A/Users/conse/AppData/Local/Programs/Python/Python310/lib/site-packages/pandas/core/frame.py?line=3503'>3504</a>\u001b[0m     \u001b[39mreturn\u001b[39;00m \u001b[39mself\u001b[39m\u001b[39m.\u001b[39m_getitem_multilevel(key)\n\u001b[1;32m-> <a href='file:///c%3A/Users/conse/AppData/Local/Programs/Python/Python310/lib/site-packages/pandas/core/frame.py?line=3504'>3505</a>\u001b[0m indexer \u001b[39m=\u001b[39m \u001b[39mself\u001b[39;49m\u001b[39m.\u001b[39;49mcolumns\u001b[39m.\u001b[39;49mget_loc(key)\n\u001b[0;32m   <a href='file:///c%3A/Users/conse/AppData/Local/Programs/Python/Python310/lib/site-packages/pandas/core/frame.py?line=3505'>3506</a>\u001b[0m \u001b[39mif\u001b[39;00m is_integer(indexer):\n\u001b[0;32m   <a href='file:///c%3A/Users/conse/AppData/Local/Programs/Python/Python310/lib/site-packages/pandas/core/frame.py?line=3506'>3507</a>\u001b[0m     indexer \u001b[39m=\u001b[39m [indexer]\n",
      "File \u001b[1;32m~\\AppData\\Local\\Programs\\Python\\Python310\\lib\\site-packages\\pandas\\core\\indexes\\base.py:3623\u001b[0m, in \u001b[0;36mIndex.get_loc\u001b[1;34m(self, key, method, tolerance)\u001b[0m\n\u001b[0;32m   <a href='file:///c%3A/Users/conse/AppData/Local/Programs/Python/Python310/lib/site-packages/pandas/core/indexes/base.py?line=3620'>3621</a>\u001b[0m     \u001b[39mreturn\u001b[39;00m \u001b[39mself\u001b[39m\u001b[39m.\u001b[39m_engine\u001b[39m.\u001b[39mget_loc(casted_key)\n\u001b[0;32m   <a href='file:///c%3A/Users/conse/AppData/Local/Programs/Python/Python310/lib/site-packages/pandas/core/indexes/base.py?line=3621'>3622</a>\u001b[0m \u001b[39mexcept\u001b[39;00m \u001b[39mKeyError\u001b[39;00m \u001b[39mas\u001b[39;00m err:\n\u001b[1;32m-> <a href='file:///c%3A/Users/conse/AppData/Local/Programs/Python/Python310/lib/site-packages/pandas/core/indexes/base.py?line=3622'>3623</a>\u001b[0m     \u001b[39mraise\u001b[39;00m \u001b[39mKeyError\u001b[39;00m(key) \u001b[39mfrom\u001b[39;00m \u001b[39merr\u001b[39;00m\n\u001b[0;32m   <a href='file:///c%3A/Users/conse/AppData/Local/Programs/Python/Python310/lib/site-packages/pandas/core/indexes/base.py?line=3623'>3624</a>\u001b[0m \u001b[39mexcept\u001b[39;00m \u001b[39mTypeError\u001b[39;00m:\n\u001b[0;32m   <a href='file:///c%3A/Users/conse/AppData/Local/Programs/Python/Python310/lib/site-packages/pandas/core/indexes/base.py?line=3624'>3625</a>\u001b[0m     \u001b[39m# If we have a listlike key, _check_indexing_error will raise\u001b[39;00m\n\u001b[0;32m   <a href='file:///c%3A/Users/conse/AppData/Local/Programs/Python/Python310/lib/site-packages/pandas/core/indexes/base.py?line=3625'>3626</a>\u001b[0m     \u001b[39m#  InvalidIndexError. Otherwise we fall through and re-raise\u001b[39;00m\n\u001b[0;32m   <a href='file:///c%3A/Users/conse/AppData/Local/Programs/Python/Python310/lib/site-packages/pandas/core/indexes/base.py?line=3626'>3627</a>\u001b[0m     \u001b[39m#  the TypeError.\u001b[39;00m\n\u001b[0;32m   <a href='file:///c%3A/Users/conse/AppData/Local/Programs/Python/Python310/lib/site-packages/pandas/core/indexes/base.py?line=3627'>3628</a>\u001b[0m     \u001b[39mself\u001b[39m\u001b[39m.\u001b[39m_check_indexing_error(key)\n",
      "\u001b[1;31mKeyError\u001b[0m: 'Indicator Name'"
     ]
    }
   ],
   "source": [
    "app.layout = html.Div([\n",
    "    html.Div([\n",
    "\n",
    "        html.Div([\n",
    "            dcc.Dropdown(\n",
    "                df['Indicator Name'].unique(),\n",
    "                'Fertility rate, total (births per woman)',\n",
    "                id='crossfilter-xaxis-column',\n",
    "            ),\n",
    "            dcc.RadioItems(\n",
    "                ['Linear', 'Log'],\n",
    "                'Linear',\n",
    "                id='crossfilter-xaxis-type',\n",
    "                labelStyle={'display': 'inline-block', 'marginTop': '5px'}\n",
    "            )\n",
    "        ],\n",
    "        style={'width': '49%', 'display': 'inline-block'}),\n",
    "\n",
    "        html.Div([\n",
    "            dcc.Dropdown(\n",
    "                df['Indicator Name'].unique(),\n",
    "                'Life expectancy at birth, total (years)',\n",
    "                id='crossfilter-yaxis-column'\n",
    "            ),\n",
    "            dcc.RadioItems(\n",
    "                ['Linear', 'Log'],\n",
    "                'Linear',\n",
    "                id='crossfilter-yaxis-type',\n",
    "                labelStyle={'display': 'inline-block', 'marginTop': '5px'}\n",
    "            )\n",
    "        ], style={'width': '49%', 'float': 'right', 'display': 'inline-block'})\n",
    "    ], style={\n",
    "        'padding': '10px 5px'\n",
    "    }),\n",
    "\n",
    "    html.Div([\n",
    "        dcc.Graph(\n",
    "            id='crossfilter-indicator-scatter',\n",
    "            hoverData={'points': [{'customdata': 'Japan'}]}\n",
    "        )\n",
    "    ], style={'width': '49%', 'display': 'inline-block', 'padding': '0 20'}),\n",
    "    html.Div([\n",
    "        dcc.Graph(id='x-time-series'),\n",
    "        dcc.Graph(id='y-time-series'),\n",
    "    ], style={'display': 'inline-block', 'width': '49%'}),\n",
    "\n",
    "    html.Div(dcc.Slider(\n",
    "        df['Year'].min(),\n",
    "        df['Year'].max(),\n",
    "        step=None,\n",
    "        id='crossfilter-year--slider',\n",
    "        value=df['Year'].max(),\n",
    "        marks={str(year): str(year) for year in df['Year'].unique()}\n",
    "    ), style={'width': '49%', 'padding': '0px 20px 20px 20px'})\n",
    "])\n",
    "\n",
    "\n",
    "@app.callback(\n",
    "    Output('crossfilter-indicator-scatter', 'figure'),\n",
    "    Input('crossfilter-xaxis-column', 'value'),\n",
    "    Input('crossfilter-yaxis-column', 'value'),\n",
    "    Input('crossfilter-xaxis-type', 'value'),\n",
    "    Input('crossfilter-yaxis-type', 'value'),\n",
    "    Input('crossfilter-year--slider', 'value'))\n",
    "def update_graph(xaxis_column_name, yaxis_column_name,\n",
    "                 xaxis_type, yaxis_type,\n",
    "                 year_value):\n",
    "    dff = df[df['Year'] == year_value]\n",
    "\n",
    "    fig = px.scatter(x=dff[dff['Indicator Name'] == xaxis_column_name]['Value'],\n",
    "            y=dff[dff['Indicator Name'] == yaxis_column_name]['Value'],\n",
    "            hover_name=dff[dff['Indicator Name'] == yaxis_column_name]['Country Name']\n",
    "            )\n",
    "\n",
    "    fig.update_traces(customdata=dff[dff['Indicator Name'] == yaxis_column_name]['Country Name'])\n",
    "\n",
    "    fig.update_xaxes(title=xaxis_column_name, type='linear' if xaxis_type == 'Linear' else 'log')\n",
    "\n",
    "    fig.update_yaxes(title=yaxis_column_name, type='linear' if yaxis_type == 'Linear' else 'log')\n",
    "\n",
    "    fig.update_layout(margin={'l': 40, 'b': 40, 't': 10, 'r': 0}, hovermode='closest')\n",
    "\n",
    "    return fig\n",
    "\n",
    "\n",
    "def create_time_series(dff, axis_type, title):\n",
    "\n",
    "    fig = px.scatter(dff, x='Year', y='Value')\n",
    "\n",
    "    fig.update_traces(mode='lines+markers')\n",
    "\n",
    "    fig.update_xaxes(showgrid=False)\n",
    "\n",
    "    fig.update_yaxes(type='linear' if axis_type == 'Linear' else 'log')\n",
    "\n",
    "    fig.add_annotation(x=0, y=0.85, xanchor='left', yanchor='bottom',\n",
    "                       xref='paper', yref='paper', showarrow=False, align='left',\n",
    "                       text=title)\n",
    "\n",
    "    fig.update_layout(height=225, margin={'l': 20, 'b': 30, 'r': 10, 't': 10})\n",
    "\n",
    "    return fig\n",
    "\n",
    "\n",
    "@app.callback(\n",
    "    Output('x-time-series', 'figure'),\n",
    "    Input('crossfilter-indicator-scatter', 'hoverData'),\n",
    "    Input('crossfilter-xaxis-column', 'value'),\n",
    "    Input('crossfilter-xaxis-type', 'value'))\n",
    "def update_y_timeseries(hoverData, xaxis_column_name, axis_type):\n",
    "    country_name = hoverData['points'][0]['customdata']\n",
    "    dff = df[df['Country Name'] == country_name]\n",
    "    dff = dff[dff['Indicator Name'] == xaxis_column_name]\n",
    "    title = '<b>{}</b><br>{}'.format(country_name, xaxis_column_name)\n",
    "    return create_time_series(dff, axis_type, title)\n",
    "\n",
    "\n",
    "@app.callback(\n",
    "    Output('y-time-series', 'figure'),\n",
    "    Input('crossfilter-indicator-scatter', 'hoverData'),\n",
    "    Input('crossfilter-yaxis-column', 'value'),\n",
    "    Input('crossfilter-yaxis-type', 'value'))\n",
    "def update_x_timeseries(hoverData, yaxis_column_name, axis_type):\n",
    "    dff = df[df['Country Name'] == hoverData['points'][0]['customdata']]\n",
    "    dff = dff[dff['Indicator Name'] == yaxis_column_name]\n",
    "    return create_time_series(dff, axis_type, yaxis_column_name)\n",
    "\n",
    "\n",
    "if __name__ == '__main__':\n",
    "    app.run_server(debug=True)"
   ]
  },
  {
   "cell_type": "code",
   "execution_count": null,
   "id": "92429cb8",
   "metadata": {},
   "outputs": [
    {
     "name": "stdout",
     "output_type": "stream",
     "text": [
      "Dash app running on http://127.0.0.1:8050/\n"
     ]
    }
   ],
   "source": [
    "app.run_server()"
   ]
  },
  {
   "cell_type": "code",
   "execution_count": null,
   "id": "7801b4e8",
   "metadata": {},
   "outputs": [
    {
     "name": "stderr",
     "output_type": "stream",
     "text": [
      "C:\\Users\\conse\\AppData\\Local\\Programs\\Python\\Python310\\lib\\site-packages\\jupyter_dash\\jupyter_app.py:139: UserWarning: The 'environ['werkzeug.server.shutdown']' function is deprecated and will be removed in Werkzeug 2.1.\n",
      "  func()\n"
     ]
    },
    {
     "data": {
      "text/html": [
       "\n",
       "        <iframe\n",
       "            width=\"100%\"\n",
       "            height=\"650\"\n",
       "            src=\"http://127.0.0.1:8050/\"\n",
       "            frameborder=\"0\"\n",
       "            allowfullscreen\n",
       "            \n",
       "        ></iframe>\n",
       "        "
      ],
      "text/plain": [
       "<IPython.lib.display.IFrame at 0x197f9263f70>"
      ]
     },
     "metadata": {},
     "output_type": "display_data"
    }
   ],
   "source": [
    "app.run_server(mode=\"inline\")"
   ]
  },
  {
   "cell_type": "code",
   "execution_count": null,
   "id": "4a0409d6",
   "metadata": {},
   "outputs": [],
   "source": [
    "app.run_server(mode=\"jupyterlab\")"
   ]
  }
 ],
 "metadata": {
  "kernelspec": {
   "display_name": "Python 3",
   "language": "python",
   "name": "python3"
  },
  "language_info": {
   "codemirror_mode": {
    "name": "ipython",
    "version": 3
   },
   "file_extension": ".py",
   "mimetype": "text/x-python",
   "name": "python",
   "nbconvert_exporter": "python",
   "pygments_lexer": "ipython3",
   "version": "3.10.0"
  }
 },
 "nbformat": 4,
 "nbformat_minor": 5
}
